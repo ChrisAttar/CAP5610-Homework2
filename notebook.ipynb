{
 "cells": [
  {
   "cell_type": "code",
   "execution_count": 36,
   "metadata": {},
   "outputs": [],
   "source": [
    "import numpy as np\n",
    "import pandas as pd\n",
    "import matplotlib.pyplot as plt\n",
    "\n",
    "\n",
    "train_data = pd.read_csv(\"dataset/train.csv\")\n",
    "test_data = pd.read_csv(\"dataset/test.csv\")\n",
    "\n",
    "# Make copies of dataset to preprocess data\n",
    "train_data_preprocessed = train_data.copy()\n",
    "test_data_preprocessed = test_data.copy()"
   ]
  },
  {
   "cell_type": "code",
   "execution_count": 40,
   "metadata": {},
   "outputs": [],
   "source": [
    "# Preprocess data to populate NaN age value with value of the mean for the Pclass\n",
    "# First iterate through rows, then if a row has a nan value in the age column assign a new value to it\n",
    "# Repeat process for test_data\n",
    "for index, row in train_data.iterrows():\n",
    "    if pd.isnull(row[\"Age\"]):\n",
    "        if row[\"Pclass\"] == 1:\n",
    "            train_data_preprocessed.loc[index, \"Age\"] = round(train_data_preprocessed[train_data_preprocessed[\"Pclass\"]==1][\"Age\"].mean())\n",
    "        elif row[\"Pclass\"] == 2:\n",
    "            train_data_preprocessed.loc[index, \"Age\"] = round(train_data_preprocessed[train_data_preprocessed[\"Pclass\"]==2][\"Age\"].mean())\n",
    "        else:\n",
    "            train_data_preprocessed.loc[index, \"Age\"] = round(train_data_preprocessed[train_data_preprocessed[\"Pclass\"]==3][\"Age\"].mean())\n",
    "\n",
    "for index, row in test_data.iterrows():\n",
    "    if pd.isnull(row[\"Age\"]):\n",
    "        if row[\"Pclass\"] == 1:\n",
    "            test_data_preprocessed.loc[index, \"Age\"] = round(test_data_preprocessed[test_data_preprocessed[\"Pclass\"]==1][\"Age\"].mean())\n",
    "        elif row[\"Pclass\"] == 2:\n",
    "            test_data_preprocessed.loc[index, \"Age\"] = round(test_data_preprocessed[test_data_preprocessed[\"Pclass\"]==2][\"Age\"].mean())\n",
    "        else:\n",
    "            test_data_preprocessed.loc[index, \"Age\"] = round(test_data_preprocessed[test_data_preprocessed[\"Pclass\"]==3][\"Age\"].mean())"
   ]
  },
  {
   "cell_type": "code",
   "execution_count": 42,
   "metadata": {},
   "outputs": [],
   "source": [
    "# Preprocess: Change male/female to boolean value\n",
    "train_data_preprocessed[\"Sex\"] = train_data_preprocessed[\"Sex\"].map({\"male\":0, \"female\":1})\n",
    "train_data_preprocessed.to_csv(\"preprocessed/train_preprocessed.csv\", index=False)\n",
    "\n",
    "test_data_preprocessed[\"Sex\"] = test_data_preprocessed[\"Sex\"].map({\"male\":0, \"female\":1})\n",
    "test_data_preprocessed.to_csv(\"preprocessed/train_preprocessed.csv\", index=False)"
   ]
  },
  {
   "cell_type": "code",
   "execution_count": null,
   "metadata": {},
   "outputs": [],
   "source": [
    "# Select features\n",
    "features = [\"Survived\", \"Pclass\", \"Sex\", \"Age\", \"SibSp\", \"Parch\"]"
   ]
  },
  {
   "cell_type": "code",
   "execution_count": 6,
   "metadata": {},
   "outputs": [
    {
     "name": "stdout",
     "output_type": "stream",
     "text": [
      "Your submission was successfully saved!\n"
     ]
    }
   ],
   "source": [
    "from sklearn.ensemble import RandomForestClassifier\n",
    "\n",
    "y = train_data[\"Survived\"]\n",
    "\n",
    "features = [\"Pclass\", \"Sex\", \"SibSp\", \"Parch\"]\n",
    "X = pd.get_dummies(train_data[features])\n",
    "X_test = pd.get_dummies(test_data[features])\n",
    "\n",
    "model = RandomForestClassifier(n_estimators=100, max_depth=5, random_state=1)\n",
    "model.fit(X, y)\n",
    "predictions = model.predict(X_test)\n",
    "\n",
    "output = pd.DataFrame({\"PassengerId\": test_data.PassengerId, \"Survived\": predictions})\n",
    "output.to_csv(\"submission.csv\", index=False)\n",
    "print(\"Your submission was successfully saved!\")"
   ]
  }
 ],
 "metadata": {
  "interpreter": {
   "hash": "8fa8db45c6341d4c26f24dc8381e2c3c432060d26e2837089ffdef2b93d69026"
  },
  "kernelspec": {
   "display_name": "Python 3.9.10 64-bit (windows store)",
   "language": "python",
   "name": "python3"
  },
  "language_info": {
   "codemirror_mode": {
    "name": "ipython",
    "version": 3
   },
   "file_extension": ".py",
   "mimetype": "text/x-python",
   "name": "python",
   "nbconvert_exporter": "python",
   "pygments_lexer": "ipython3",
   "version": "3.9.10"
  },
  "orig_nbformat": 4
 },
 "nbformat": 4,
 "nbformat_minor": 2
}
